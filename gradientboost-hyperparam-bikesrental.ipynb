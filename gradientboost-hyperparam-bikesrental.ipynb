{
 "cells": [
  {
   "cell_type": "code",
   "execution_count": 1,
   "metadata": {
    "_cell_guid": "79c7e3d0-c299-4dcb-8224-4455121ee9b0",
    "_uuid": "d629ff2d2480ee46fbb7e2d37f6b5fab8052498a",
    "execution": {
     "iopub.execute_input": "2021-01-05T13:16:20.362327Z",
     "iopub.status.busy": "2021-01-05T13:16:20.361601Z",
     "iopub.status.idle": "2021-01-05T13:16:20.404925Z",
     "shell.execute_reply": "2021-01-05T13:16:20.404318Z"
    },
    "papermill": {
     "duration": 0.069101,
     "end_time": "2021-01-05T13:16:20.405048",
     "exception": false,
     "start_time": "2021-01-05T13:16:20.335947",
     "status": "completed"
    },
    "tags": []
   },
   "outputs": [
    {
     "data": {
      "text/html": [
       "<div>\n",
       "<style scoped>\n",
       "    .dataframe tbody tr th:only-of-type {\n",
       "        vertical-align: middle;\n",
       "    }\n",
       "\n",
       "    .dataframe tbody tr th {\n",
       "        vertical-align: top;\n",
       "    }\n",
       "\n",
       "    .dataframe thead th {\n",
       "        text-align: right;\n",
       "    }\n",
       "</style>\n",
       "<table border=\"1\" class=\"dataframe\">\n",
       "  <thead>\n",
       "    <tr style=\"text-align: right;\">\n",
       "      <th></th>\n",
       "      <th>instant</th>\n",
       "      <th>season</th>\n",
       "      <th>yr</th>\n",
       "      <th>mnth</th>\n",
       "      <th>holiday</th>\n",
       "      <th>weekday</th>\n",
       "      <th>workingday</th>\n",
       "      <th>weathersit</th>\n",
       "      <th>temp</th>\n",
       "      <th>atemp</th>\n",
       "      <th>hum</th>\n",
       "      <th>windspeed</th>\n",
       "      <th>cnt</th>\n",
       "    </tr>\n",
       "  </thead>\n",
       "  <tbody>\n",
       "    <tr>\n",
       "      <th>0</th>\n",
       "      <td>1</td>\n",
       "      <td>1.0</td>\n",
       "      <td>0.0</td>\n",
       "      <td>1</td>\n",
       "      <td>0.0</td>\n",
       "      <td>6.0</td>\n",
       "      <td>0.0</td>\n",
       "      <td>2</td>\n",
       "      <td>0.344167</td>\n",
       "      <td>0.363625</td>\n",
       "      <td>0.805833</td>\n",
       "      <td>0.160446</td>\n",
       "      <td>985</td>\n",
       "    </tr>\n",
       "    <tr>\n",
       "      <th>1</th>\n",
       "      <td>2</td>\n",
       "      <td>1.0</td>\n",
       "      <td>0.0</td>\n",
       "      <td>1</td>\n",
       "      <td>0.0</td>\n",
       "      <td>0.0</td>\n",
       "      <td>0.0</td>\n",
       "      <td>2</td>\n",
       "      <td>0.363478</td>\n",
       "      <td>0.353739</td>\n",
       "      <td>0.696087</td>\n",
       "      <td>0.248539</td>\n",
       "      <td>801</td>\n",
       "    </tr>\n",
       "    <tr>\n",
       "      <th>2</th>\n",
       "      <td>3</td>\n",
       "      <td>1.0</td>\n",
       "      <td>0.0</td>\n",
       "      <td>1</td>\n",
       "      <td>0.0</td>\n",
       "      <td>1.0</td>\n",
       "      <td>1.0</td>\n",
       "      <td>1</td>\n",
       "      <td>0.196364</td>\n",
       "      <td>0.189405</td>\n",
       "      <td>0.437273</td>\n",
       "      <td>0.248309</td>\n",
       "      <td>1349</td>\n",
       "    </tr>\n",
       "    <tr>\n",
       "      <th>3</th>\n",
       "      <td>4</td>\n",
       "      <td>1.0</td>\n",
       "      <td>0.0</td>\n",
       "      <td>1</td>\n",
       "      <td>0.0</td>\n",
       "      <td>2.0</td>\n",
       "      <td>1.0</td>\n",
       "      <td>1</td>\n",
       "      <td>0.200000</td>\n",
       "      <td>0.212122</td>\n",
       "      <td>0.590435</td>\n",
       "      <td>0.160296</td>\n",
       "      <td>1562</td>\n",
       "    </tr>\n",
       "    <tr>\n",
       "      <th>4</th>\n",
       "      <td>5</td>\n",
       "      <td>1.0</td>\n",
       "      <td>0.0</td>\n",
       "      <td>1</td>\n",
       "      <td>0.0</td>\n",
       "      <td>3.0</td>\n",
       "      <td>1.0</td>\n",
       "      <td>1</td>\n",
       "      <td>0.226957</td>\n",
       "      <td>0.229270</td>\n",
       "      <td>0.436957</td>\n",
       "      <td>0.186900</td>\n",
       "      <td>1600</td>\n",
       "    </tr>\n",
       "  </tbody>\n",
       "</table>\n",
       "</div>"
      ],
      "text/plain": [
       "   instant  season   yr  mnth  holiday  weekday  workingday  weathersit  \\\n",
       "0        1     1.0  0.0     1      0.0      6.0         0.0           2   \n",
       "1        2     1.0  0.0     1      0.0      0.0         0.0           2   \n",
       "2        3     1.0  0.0     1      0.0      1.0         1.0           1   \n",
       "3        4     1.0  0.0     1      0.0      2.0         1.0           1   \n",
       "4        5     1.0  0.0     1      0.0      3.0         1.0           1   \n",
       "\n",
       "       temp     atemp       hum  windspeed   cnt  \n",
       "0  0.344167  0.363625  0.805833   0.160446   985  \n",
       "1  0.363478  0.353739  0.696087   0.248539   801  \n",
       "2  0.196364  0.189405  0.437273   0.248309  1349  \n",
       "3  0.200000  0.212122  0.590435   0.160296  1562  \n",
       "4  0.226957  0.229270  0.436957   0.186900  1600  "
      ]
     },
     "execution_count": 1,
     "metadata": {},
     "output_type": "execute_result"
    }
   ],
   "source": [
    "import pandas as pd\n",
    "import numpy as np\n",
    "import warnings\n",
    "warnings.filterwarnings('ignore')\n",
    "\n",
    "df_bikes = pd.read_csv('../input/data-wrangling-bike-rentals/bike_rentals_cleaned.csv')\n",
    "\n",
    "df_bikes.head()"
   ]
  },
  {
   "cell_type": "code",
   "execution_count": 2,
   "metadata": {
    "execution": {
     "iopub.execute_input": "2021-01-05T13:16:20.449079Z",
     "iopub.status.busy": "2021-01-05T13:16:20.448346Z",
     "iopub.status.idle": "2021-01-05T13:16:21.590321Z",
     "shell.execute_reply": "2021-01-05T13:16:21.589782Z"
    },
    "papermill": {
     "duration": 1.166613,
     "end_time": "2021-01-05T13:16:21.590486",
     "exception": false,
     "start_time": "2021-01-05T13:16:20.423873",
     "status": "completed"
    },
    "tags": []
   },
   "outputs": [],
   "source": [
    "X_bikes = df_bikes.iloc[:,:-1]\n",
    "y_bikes = df_bikes.iloc[:,-1]\n",
    "\n",
    "from sklearn.model_selection import train_test_split\n",
    "\n",
    "X_train, X_test, y_train, y_test = train_test_split(X_bikes, y_bikes, random_state=2)"
   ]
  },
  {
   "cell_type": "markdown",
   "metadata": {
    "papermill": {
     "duration": 0.017121,
     "end_time": "2021-01-05T13:16:21.624920",
     "exception": false,
     "start_time": "2021-01-05T13:16:21.607799",
     "status": "completed"
    },
    "tags": []
   },
   "source": [
    "# Building Gradient Boosting model from scratch"
   ]
  },
  {
   "cell_type": "code",
   "execution_count": 3,
   "metadata": {
    "execution": {
     "iopub.execute_input": "2021-01-05T13:16:21.664898Z",
     "iopub.status.busy": "2021-01-05T13:16:21.664099Z",
     "iopub.status.idle": "2021-01-05T13:16:21.884597Z",
     "shell.execute_reply": "2021-01-05T13:16:21.883997Z"
    },
    "papermill": {
     "duration": 0.242527,
     "end_time": "2021-01-05T13:16:21.884714",
     "exception": false,
     "start_time": "2021-01-05T13:16:21.642187",
     "status": "completed"
    },
    "tags": []
   },
   "outputs": [
    {
     "data": {
      "text/plain": [
       "DecisionTreeRegressor(max_depth=2, random_state=2)"
      ]
     },
     "execution_count": 3,
     "metadata": {},
     "output_type": "execute_result"
    }
   ],
   "source": [
    "from sklearn.tree import DecisionTreeRegressor\n",
    "\n",
    "tree1= DecisionTreeRegressor(max_depth=2, random_state=2)\n",
    "tree1.fit(X_train,y_train)"
   ]
  },
  {
   "cell_type": "code",
   "execution_count": 4,
   "metadata": {
    "execution": {
     "iopub.execute_input": "2021-01-05T13:16:21.929553Z",
     "iopub.status.busy": "2021-01-05T13:16:21.928861Z",
     "iopub.status.idle": "2021-01-05T13:16:21.954309Z",
     "shell.execute_reply": "2021-01-05T13:16:21.953761Z"
    },
    "papermill": {
     "duration": 0.04987,
     "end_time": "2021-01-05T13:16:21.954452",
     "exception": false,
     "start_time": "2021-01-05T13:16:21.904582",
     "status": "completed"
    },
    "tags": []
   },
   "outputs": [],
   "source": [
    "y_train_preds = tree1.predict(X_train)\n",
    "\n",
    "y2_train = y_train - y_train_preds"
   ]
  },
  {
   "cell_type": "code",
   "execution_count": 5,
   "metadata": {
    "execution": {
     "iopub.execute_input": "2021-01-05T13:16:21.999120Z",
     "iopub.status.busy": "2021-01-05T13:16:21.998310Z",
     "iopub.status.idle": "2021-01-05T13:16:22.004404Z",
     "shell.execute_reply": "2021-01-05T13:16:22.003846Z"
    },
    "papermill": {
     "duration": 0.032005,
     "end_time": "2021-01-05T13:16:22.004521",
     "exception": false,
     "start_time": "2021-01-05T13:16:21.972516",
     "status": "completed"
    },
    "tags": []
   },
   "outputs": [
    {
     "data": {
      "text/plain": [
       "DecisionTreeRegressor(max_depth=2, random_state=2)"
      ]
     },
     "execution_count": 5,
     "metadata": {},
     "output_type": "execute_result"
    }
   ],
   "source": [
    "tree2 = DecisionTreeRegressor(max_depth=2, random_state=2)\n",
    "tree2.fit(X_train, y2_train)"
   ]
  },
  {
   "cell_type": "code",
   "execution_count": 6,
   "metadata": {
    "execution": {
     "iopub.execute_input": "2021-01-05T13:16:22.048303Z",
     "iopub.status.busy": "2021-01-05T13:16:22.047665Z",
     "iopub.status.idle": "2021-01-05T13:16:22.050838Z",
     "shell.execute_reply": "2021-01-05T13:16:22.050219Z"
    },
    "papermill": {
     "duration": 0.028235,
     "end_time": "2021-01-05T13:16:22.051003",
     "exception": false,
     "start_time": "2021-01-05T13:16:22.022768",
     "status": "completed"
    },
    "tags": []
   },
   "outputs": [],
   "source": [
    "y2_train_preds = tree2.predict(X_train)\n",
    "\n",
    "y3_train = y2_train - y2_train_preds"
   ]
  },
  {
   "cell_type": "code",
   "execution_count": 7,
   "metadata": {
    "execution": {
     "iopub.execute_input": "2021-01-05T13:16:22.096290Z",
     "iopub.status.busy": "2021-01-05T13:16:22.095299Z",
     "iopub.status.idle": "2021-01-05T13:16:22.101593Z",
     "shell.execute_reply": "2021-01-05T13:16:22.100924Z"
    },
    "papermill": {
     "duration": 0.032295,
     "end_time": "2021-01-05T13:16:22.101710",
     "exception": false,
     "start_time": "2021-01-05T13:16:22.069415",
     "status": "completed"
    },
    "tags": []
   },
   "outputs": [
    {
     "data": {
      "text/plain": [
       "DecisionTreeRegressor(max_depth=2, random_state=2)"
      ]
     },
     "execution_count": 7,
     "metadata": {},
     "output_type": "execute_result"
    }
   ],
   "source": [
    "tree3 = DecisionTreeRegressor(max_depth=2, random_state=2)\n",
    "\n",
    "tree3.fit(X_train, y3_train)"
   ]
  },
  {
   "cell_type": "code",
   "execution_count": 8,
   "metadata": {
    "execution": {
     "iopub.execute_input": "2021-01-05T13:16:22.151072Z",
     "iopub.status.busy": "2021-01-05T13:16:22.150027Z",
     "iopub.status.idle": "2021-01-05T13:16:22.153490Z",
     "shell.execute_reply": "2021-01-05T13:16:22.152839Z"
    },
    "papermill": {
     "duration": 0.033275,
     "end_time": "2021-01-05T13:16:22.153616",
     "exception": false,
     "start_time": "2021-01-05T13:16:22.120341",
     "status": "completed"
    },
    "tags": []
   },
   "outputs": [],
   "source": [
    "y1_preds = tree1.predict(X_test)\n",
    "y2_preds = tree2.predict(X_test)\n",
    "y3_preds = tree3.predict(X_test)"
   ]
  },
  {
   "cell_type": "code",
   "execution_count": 9,
   "metadata": {
    "execution": {
     "iopub.execute_input": "2021-01-05T13:16:22.196562Z",
     "iopub.status.busy": "2021-01-05T13:16:22.195880Z",
     "iopub.status.idle": "2021-01-05T13:16:22.199209Z",
     "shell.execute_reply": "2021-01-05T13:16:22.198595Z"
    },
    "papermill": {
     "duration": 0.026782,
     "end_time": "2021-01-05T13:16:22.199321",
     "exception": false,
     "start_time": "2021-01-05T13:16:22.172539",
     "status": "completed"
    },
    "tags": []
   },
   "outputs": [],
   "source": [
    "y_preds = y1_preds + y2_preds + y3_preds"
   ]
  },
  {
   "cell_type": "code",
   "execution_count": 10,
   "metadata": {
    "execution": {
     "iopub.execute_input": "2021-01-05T13:16:22.244955Z",
     "iopub.status.busy": "2021-01-05T13:16:22.244219Z",
     "iopub.status.idle": "2021-01-05T13:16:22.248244Z",
     "shell.execute_reply": "2021-01-05T13:16:22.247705Z"
    },
    "papermill": {
     "duration": 0.029501,
     "end_time": "2021-01-05T13:16:22.248389",
     "exception": false,
     "start_time": "2021-01-05T13:16:22.218888",
     "status": "completed"
    },
    "tags": []
   },
   "outputs": [
    {
     "data": {
      "text/plain": [
       "911.0479538776444"
      ]
     },
     "execution_count": 10,
     "metadata": {},
     "output_type": "execute_result"
    }
   ],
   "source": [
    "from sklearn.metrics import mean_squared_error\n",
    "\n",
    "mse = mean_squared_error(y_preds, y_test)**0.5\n",
    "mse"
   ]
  },
  {
   "cell_type": "markdown",
   "metadata": {
    "papermill": {
     "duration": 0.019362,
     "end_time": "2021-01-05T13:16:22.287770",
     "exception": false,
     "start_time": "2021-01-05T13:16:22.268408",
     "status": "completed"
    },
    "tags": []
   },
   "source": [
    "# Building Gradient Boosting Model using Scikit learn"
   ]
  },
  {
   "cell_type": "code",
   "execution_count": 11,
   "metadata": {
    "execution": {
     "iopub.execute_input": "2021-01-05T13:16:22.333992Z",
     "iopub.status.busy": "2021-01-05T13:16:22.333219Z",
     "iopub.status.idle": "2021-01-05T13:16:22.377876Z",
     "shell.execute_reply": "2021-01-05T13:16:22.377126Z"
    },
    "papermill": {
     "duration": 0.069997,
     "end_time": "2021-01-05T13:16:22.378004",
     "exception": false,
     "start_time": "2021-01-05T13:16:22.308007",
     "status": "completed"
    },
    "tags": []
   },
   "outputs": [
    {
     "data": {
      "text/plain": [
       "911.0479538776439"
      ]
     },
     "execution_count": 11,
     "metadata": {},
     "output_type": "execute_result"
    }
   ],
   "source": [
    "from sklearn.ensemble import GradientBoostingRegressor\n",
    "\n",
    "greg = GradientBoostingRegressor(n_estimators=3,max_depth=2, random_state=2, learning_rate=1.0)\n",
    "\n",
    "greg.fit(X_train, y_train)\n",
    "y_preds = greg.predict(X_test)\n",
    "\n",
    "mse = mean_squared_error(y_preds, y_test)**0.5\n",
    "mse\n",
    "\n"
   ]
  },
  {
   "cell_type": "code",
   "execution_count": 12,
   "metadata": {
    "execution": {
     "iopub.execute_input": "2021-01-05T13:16:22.428476Z",
     "iopub.status.busy": "2021-01-05T13:16:22.427703Z",
     "iopub.status.idle": "2021-01-05T13:16:22.463813Z",
     "shell.execute_reply": "2021-01-05T13:16:22.464353Z"
    },
    "papermill": {
     "duration": 0.065907,
     "end_time": "2021-01-05T13:16:22.464532",
     "exception": false,
     "start_time": "2021-01-05T13:16:22.398625",
     "status": "completed"
    },
    "tags": []
   },
   "outputs": [
    {
     "data": {
      "text/plain": [
       "857.1072323426944"
      ]
     },
     "execution_count": 12,
     "metadata": {},
     "output_type": "execute_result"
    }
   ],
   "source": [
    "greg = GradientBoostingRegressor(n_estimators=30, max_depth=2, random_state=2, learning_rate=1.0)\n",
    "\n",
    "greg.fit(X_train,y_train)\n",
    "y_preds = greg.predict(X_test)\n",
    "mse = mean_squared_error(y_preds, y_test)**0.5\n",
    "mse"
   ]
  },
  {
   "cell_type": "code",
   "execution_count": 13,
   "metadata": {
    "execution": {
     "iopub.execute_input": "2021-01-05T13:16:22.514191Z",
     "iopub.status.busy": "2021-01-05T13:16:22.513548Z",
     "iopub.status.idle": "2021-01-05T13:16:22.796274Z",
     "shell.execute_reply": "2021-01-05T13:16:22.796770Z"
    },
    "papermill": {
     "duration": 0.312037,
     "end_time": "2021-01-05T13:16:22.796978",
     "exception": false,
     "start_time": "2021-01-05T13:16:22.484941",
     "status": "completed"
    },
    "tags": []
   },
   "outputs": [
    {
     "data": {
      "text/plain": [
       "936.3617413678853"
      ]
     },
     "execution_count": 13,
     "metadata": {},
     "output_type": "execute_result"
    }
   ],
   "source": [
    "greg = GradientBoostingRegressor(n_estimators=300, max_depth=2, random_state=2, learning_rate=1.0)\n",
    "greg.fit(X_train, y_train)\n",
    "y_preds = greg.predict(X_test)\n",
    "mse = mean_squared_error(y_preds, y_test)**0.5\n",
    "mse"
   ]
  },
  {
   "cell_type": "code",
   "execution_count": 14,
   "metadata": {
    "execution": {
     "iopub.execute_input": "2021-01-05T13:16:22.847954Z",
     "iopub.status.busy": "2021-01-05T13:16:22.847199Z",
     "iopub.status.idle": "2021-01-05T13:16:23.133639Z",
     "shell.execute_reply": "2021-01-05T13:16:23.133005Z"
    },
    "papermill": {
     "duration": 0.316235,
     "end_time": "2021-01-05T13:16:23.133754",
     "exception": false,
     "start_time": "2021-01-05T13:16:22.817519",
     "status": "completed"
    },
    "tags": []
   },
   "outputs": [
    {
     "data": {
      "text/plain": [
       "653.7456840231495"
      ]
     },
     "execution_count": 14,
     "metadata": {},
     "output_type": "execute_result"
    }
   ],
   "source": [
    "greg = GradientBoostingRegressor(n_estimators=300, max_depth=2,random_state=2)\n",
    "greg.fit(X_train, y_train)\n",
    "y_preds = greg.predict(X_test)\n",
    "mse = mean_squared_error(y_preds, y_test)**0.5\n",
    "mse"
   ]
  },
  {
   "cell_type": "markdown",
   "metadata": {
    "papermill": {
     "duration": 0.020702,
     "end_time": "2021-01-05T13:16:23.175281",
     "exception": false,
     "start_time": "2021-01-05T13:16:23.154579",
     "status": "completed"
    },
    "tags": []
   },
   "source": [
    "# Hyperparameter tuning"
   ]
  },
  {
   "cell_type": "code",
   "execution_count": 15,
   "metadata": {
    "execution": {
     "iopub.execute_input": "2021-01-05T13:16:23.226909Z",
     "iopub.status.busy": "2021-01-05T13:16:23.226119Z",
     "iopub.status.idle": "2021-01-05T13:16:25.867936Z",
     "shell.execute_reply": "2021-01-05T13:16:25.868451Z"
    },
    "papermill": {
     "duration": 2.672271,
     "end_time": "2021-01-05T13:16:25.868614",
     "exception": false,
     "start_time": "2021-01-05T13:16:23.196343",
     "status": "completed"
    },
    "tags": []
   },
   "outputs": [
    {
     "name": "stdout",
     "output_type": "stream",
     "text": [
      "Learning Rate: 0.001 MSE: 1633.0261400367258\n",
      "Learning Rate: 0.01 MSE: 831.5430182728547\n",
      "Learning Rate: 0.05 MSE: 685.0192988749717\n",
      "Learning Rate: 0.1 MSE: 653.7456840231495\n",
      "Learning Rate: 0.15 MSE: 687.666134269379\n",
      "Learning Rate: 0.2 MSE: 664.312804425697\n",
      "Learning Rate: 0.3 MSE: 689.4190385930236\n",
      "Learning Rate: 0.5 MSE: 693.8856905068778\n",
      "Learning Rate: 1.0 MSE: 936.3617413678853\n"
     ]
    }
   ],
   "source": [
    "# Learning Rate\n",
    "learning_rate_values = [0.001,0.01, 0.05, 0.1, 0.15, 0.2, 0.3, 0.5, 1.0]\n",
    "\n",
    "for value in learning_rate_values:\n",
    "    greg = GradientBoostingRegressor(learning_rate=value, max_depth=2, n_estimators=300, random_state=2)\n",
    "    greg.fit(X_train, y_train)\n",
    "    y_preds = greg.predict(X_test)\n",
    "    mse = mean_squared_error(y_preds, y_test)**0.5\n",
    "    print('Learning Rate:', value, 'MSE:' ,mse)"
   ]
  },
  {
   "cell_type": "markdown",
   "metadata": {
    "papermill": {
     "duration": 0.023424,
     "end_time": "2021-01-05T13:16:25.917284",
     "exception": false,
     "start_time": "2021-01-05T13:16:25.893860",
     "status": "completed"
    },
    "tags": []
   },
   "source": [
    "As you can see from the output, the default learning_rate value of 0.1 gives the best score for 300 trees."
   ]
  },
  {
   "cell_type": "code",
   "execution_count": 16,
   "metadata": {
    "execution": {
     "iopub.execute_input": "2021-01-05T13:16:25.971008Z",
     "iopub.status.busy": "2021-01-05T13:16:25.970186Z",
     "iopub.status.idle": "2021-01-05T13:16:26.101811Z",
     "shell.execute_reply": "2021-01-05T13:16:26.101123Z"
    },
    "papermill": {
     "duration": 0.161027,
     "end_time": "2021-01-05T13:16:26.101980",
     "exception": false,
     "start_time": "2021-01-05T13:16:25.940953",
     "status": "completed"
    },
    "tags": []
   },
   "outputs": [],
   "source": [
    "import seaborn as sns\n",
    "import matplotlib.pyplot as plt"
   ]
  },
  {
   "cell_type": "code",
   "execution_count": 17,
   "metadata": {
    "execution": {
     "iopub.execute_input": "2021-01-05T13:16:26.162670Z",
     "iopub.status.busy": "2021-01-05T13:16:26.161890Z",
     "iopub.status.idle": "2021-01-05T13:16:54.990116Z",
     "shell.execute_reply": "2021-01-05T13:16:54.989358Z"
    },
    "papermill": {
     "duration": 28.864122,
     "end_time": "2021-01-05T13:16:54.990247",
     "exception": false,
     "start_time": "2021-01-05T13:16:26.126125",
     "status": "completed"
    },
    "tags": []
   },
   "outputs": [
    {
     "name": "stdout",
     "output_type": "stream",
     "text": [
      "N_Est: 30 Learning Rate: 0.001 RMSE: 1942.4494112631814\n",
      "N_Est: 30 Learning Rate: 0.01 RMSE: 1631.1821883207658\n",
      "N_Est: 30 Learning Rate: 0.05 RMSE: 1020.2704182412101\n",
      "N_Est: 30 Learning Rate: 0.1 RMSE: 816.8923095641749\n",
      "N_Est: 30 Learning Rate: 0.15 RMSE: 758.7146982297297\n",
      "N_Est: 30 Learning Rate: 0.2 RMSE: 723.2195140241369\n",
      "N_Est: 30 Learning Rate: 0.3 RMSE: 705.0648962066227\n",
      "N_Est: 30 Learning Rate: 0.5 RMSE: 712.0147889111909\n",
      "N_Est: 30 Learning Rate: 1.0 RMSE: 857.1072323426944\n"
     ]
    },
    {
     "data": {
      "image/png": "[encoded data removed]",
      "text/plain": [
       "<Figure size 1080x504 with 1 Axes>"
      ]
     },
     "metadata": {
      "needs_background": "light"
     },
     "output_type": "display_data"
    },
    {
     "name": "stdout",
     "output_type": "stream",
     "text": [
      "N_Est: 300 Learning Rate: 0.001 RMSE: 1633.0261400367258\n",
      "N_Est: 300 Learning Rate: 0.01 RMSE: 831.5430182728547\n",
      "N_Est: 300 Learning Rate: 0.05 RMSE: 685.0192988749717\n",
      "N_Est: 300 Learning Rate: 0.1 RMSE: 653.7456840231495\n",
      "N_Est: 300 Learning Rate: 0.15 RMSE: 687.666134269379\n",
      "N_Est: 300 Learning Rate: 0.2 RMSE: 664.312804425697\n",
      "N_Est: 300 Learning Rate: 0.3 RMSE: 689.4190385930236\n",
      "N_Est: 300 Learning Rate: 0.5 RMSE: 693.8856905068778\n",
      "N_Est: 300 Learning Rate: 1.0 RMSE: 936.3617413678853\n"
     ]
    },
    {
     "data": {
      "image/png": "[encoded data removed]",
      "text/plain": [
       "<Figure size 1080x504 with 1 Axes>"
      ]
     },
     "metadata": {
      "needs_background": "light"
     },
     "output_type": "display_data"
    },
    {
     "name": "stdout",
     "output_type": "stream",
     "text": [
      "N_Est: 3000 Learning Rate: 0.001 RMSE: 833.3969271105901\n",
      "N_Est: 3000 Learning Rate: 0.01 RMSE: 657.6148014941521\n",
      "N_Est: 3000 Learning Rate: 0.05 RMSE: 682.9065694015884\n",
      "N_Est: 3000 Learning Rate: 0.1 RMSE: 672.9003273253688\n",
      "N_Est: 3000 Learning Rate: 0.15 RMSE: 702.6671711067352\n",
      "N_Est: 3000 Learning Rate: 0.2 RMSE: 673.13671999295\n",
      "N_Est: 3000 Learning Rate: 0.3 RMSE: 705.3628705117246\n",
      "N_Est: 3000 Learning Rate: 0.5 RMSE: 704.3625015524514\n",
      "N_Est: 3000 Learning Rate: 1.0 RMSE: 941.771465583258\n"
     ]
    },
    {
     "data": {
      "image/png": "[encoded data removed]",
      "text/plain": [
       "<Figure size 1080x504 with 1 Axes>"
      ]
     },
     "metadata": {
      "needs_background": "light"
     },
     "output_type": "display_data"
    }
   ],
   "source": [
    "# n_estimator\n",
    "n_estimators_value = [30, 300, 3000]\n",
    "\n",
    "for value in n_estimators_value:\n",
    "    learning_rate_list = []\n",
    "    RMSE_list = []\n",
    "    for lr_value in learning_rate_values:\n",
    "        greg = GradientBoostingRegressor(n_estimators=value, max_depth=2, random_state=2, learning_rate=lr_value)\n",
    "        greg.fit(X_train, y_train)\n",
    "        y_preds = greg.predict(X_test)\n",
    "        rmse = mean_squared_error(y_preds, y_test)**0.5\n",
    "        print('N_Est:', value, 'Learning Rate:', lr_value, 'RMSE:', rmse)\n",
    "        learning_rate_list.append(lr_value)\n",
    "        RMSE_list.append(rmse)\n",
    "    plt.figure(figsize=(15,7))\n",
    "    plt.plot(learning_rate_list, RMSE_list)\n",
    "    plt.xlabel('Learning_Rate')\n",
    "    plt.ylabel('RMSE')\n",
    "    plt.title('{0} Estimators'.format(value))\n",
    "    plt.savefig('{0} Estimators - Learning_Rate VS RMSE'.format(value))\n",
    "    plt.show()"
   ]
  },
  {
   "cell_type": "code",
   "execution_count": 18,
   "metadata": {
    "execution": {
     "iopub.execute_input": "2021-01-05T13:16:55.072916Z",
     "iopub.status.busy": "2021-01-05T13:16:55.072131Z",
     "iopub.status.idle": "2021-01-05T13:16:57.577041Z",
     "shell.execute_reply": "2021-01-05T13:16:57.577735Z"
    },
    "papermill": {
     "duration": 2.550374,
     "end_time": "2021-01-05T13:16:57.577907",
     "exception": false,
     "start_time": "2021-01-05T13:16:55.027533",
     "status": "completed"
    },
    "tags": []
   },
   "outputs": [
    {
     "name": "stdout",
     "output_type": "stream",
     "text": [
      "Max Depth: None RMSE: 869.2783041945797\n",
      "Max Depth: 1 RMSE: 707.8261886858736\n",
      "Max Depth: 2 RMSE: 653.7456840231495\n",
      "Max Depth: 3 RMSE: 646.4045923317708\n",
      "Max Depth: 4 RMSE: 663.048387855927\n"
     ]
    }
   ],
   "source": [
    "# Base Learner\n",
    "depths = [None, 1, 2, 3, 4]\n",
    "\n",
    "for depth in depths:\n",
    "    greg = GradientBoostingRegressor(n_estimators=300, max_depth=depth, random_state=2)\n",
    "    greg.fit(X_train, y_train)\n",
    "    y_preds = greg.predict(X_test)\n",
    "    rmse = mean_squared_error(y_preds, y_test)**0.5\n",
    "    print('Max Depth:',depth,'RMSE:',rmse)\n"
   ]
  },
  {
   "cell_type": "markdown",
   "metadata": {
    "papermill": {
     "duration": 0.034183,
     "end_time": "2021-01-05T13:16:57.646413",
     "exception": false,
     "start_time": "2021-01-05T13:16:57.612230",
     "status": "completed"
    },
    "tags": []
   },
   "source": [
    "Max Depth of 3 gives best result"
   ]
  },
  {
   "cell_type": "code",
   "execution_count": 19,
   "metadata": {
    "execution": {
     "iopub.execute_input": "2021-01-05T13:16:57.724670Z",
     "iopub.status.busy": "2021-01-05T13:16:57.723022Z",
     "iopub.status.idle": "2021-01-05T13:16:59.779251Z",
     "shell.execute_reply": "2021-01-05T13:16:59.778726Z"
    },
    "papermill": {
     "duration": 2.099623,
     "end_time": "2021-01-05T13:16:59.779404",
     "exception": false,
     "start_time": "2021-01-05T13:16:57.679781",
     "status": "completed"
    },
    "tags": []
   },
   "outputs": [
    {
     "name": "stdout",
     "output_type": "stream",
     "text": [
      "Subsample: 1.0 RMSE: 646.4045923317708\n",
      "Subsample: 0.9 RMSE: 620.1819001443569\n",
      "Subsample: 0.8 RMSE: 617.2355650565677\n",
      "Subsample: 0.7 RMSE: 612.9879156983139\n",
      "Subsample: 0.6 RMSE: 622.6385116402317\n",
      "Subsample: 0.5 RMSE: 626.9974073227554\n"
     ]
    }
   ],
   "source": [
    "# subsample\n",
    "\n",
    "samples = [1.0, 0.9, 0.8, 0.7, 0.6, 0.5]\n",
    "\n",
    "for sample in samples:\n",
    "    greg = GradientBoostingRegressor(max_depth=3, n_estimators=300, random_state=2, subsample=sample)\n",
    "    greg.fit(X_train, y_train)\n",
    "    y_preds = greg.predict(X_test)\n",
    "    rmse = mean_squared_error(y_preds, y_test)**0.5\n",
    "    print('Subsample:',sample, 'RMSE:',rmse)\n"
   ]
  },
  {
   "cell_type": "markdown",
   "metadata": {
    "papermill": {
     "duration": 0.035195,
     "end_time": "2021-01-05T13:16:59.850291",
     "exception": false,
     "start_time": "2021-01-05T13:16:59.815096",
     "status": "completed"
    },
    "tags": []
   },
   "source": [
    "A subsample value of 0.7 with 300 trees and max_depth of 3 produces the best score yet."
   ]
  },
  {
   "cell_type": "markdown",
   "metadata": {
    "papermill": {
     "duration": 0.034795,
     "end_time": "2021-01-05T13:16:59.919955",
     "exception": false,
     "start_time": "2021-01-05T13:16:59.885160",
     "status": "completed"
    },
    "tags": []
   },
   "source": [
    "# RandomizedSearchCV"
   ]
  },
  {
   "cell_type": "code",
   "execution_count": 20,
   "metadata": {
    "execution": {
     "iopub.execute_input": "2021-01-05T13:16:59.997282Z",
     "iopub.status.busy": "2021-01-05T13:16:59.996197Z",
     "iopub.status.idle": "2021-01-05T13:16:59.998988Z",
     "shell.execute_reply": "2021-01-05T13:16:59.999663Z"
    },
    "papermill": {
     "duration": 0.044431,
     "end_time": "2021-01-05T13:16:59.999851",
     "exception": false,
     "start_time": "2021-01-05T13:16:59.955420",
     "status": "completed"
    },
    "tags": []
   },
   "outputs": [],
   "source": [
    "params = {'subsample':[0.65, 0.7, 0.75],\n",
    "         'n_estimators':[300, 500, 1000],\n",
    "         'learning_rate':[0.05, 0.075, 0.1]}"
   ]
  },
  {
   "cell_type": "code",
   "execution_count": 21,
   "metadata": {
    "execution": {
     "iopub.execute_input": "2021-01-05T13:17:00.080788Z",
     "iopub.status.busy": "2021-01-05T13:17:00.080061Z",
     "iopub.status.idle": "2021-01-05T13:17:15.445856Z",
     "shell.execute_reply": "2021-01-05T13:17:15.445108Z"
    },
    "papermill": {
     "duration": 15.409926,
     "end_time": "2021-01-05T13:17:15.446024",
     "exception": false,
     "start_time": "2021-01-05T13:17:00.036098",
     "status": "completed"
    },
    "tags": []
   },
   "outputs": [
    {
     "name": "stdout",
     "output_type": "stream",
     "text": [
      "Best params: {'subsample': 0.65, 'n_estimators': 300, 'learning_rate': 0.05}\n",
      "Training Score: 636.200\n",
      "RMSE: 625.985\n"
     ]
    }
   ],
   "source": [
    "from sklearn.model_selection import RandomizedSearchCV\n",
    "\n",
    "gbr = GradientBoostingRegressor(max_depth=3, random_state=2)\n",
    "\n",
    "rand_reg = RandomizedSearchCV(gbr, params, scoring='neg_mean_squared_error', n_jobs=-1, cv=5, n_iter=10, random_state=2)\n",
    "rand_reg.fit(X_train, y_train)\n",
    "best_model = rand_reg.best_estimator_\n",
    "best_params = rand_reg.best_params_\n",
    "print('Best params:' , best_params)\n",
    "best_score = np.sqrt(-rand_reg.best_score_)\n",
    "print('Training Score: {:.3f}'.format(best_score))\n",
    "y_preds = best_model.predict(X_test)\n",
    "rmse = mean_squared_error(y_preds, y_test)**0.5\n",
    "print('RMSE: {:.3f}'.format(rmse))\n",
    "\n",
    "\n"
   ]
  },
  {
   "cell_type": "code",
   "execution_count": 22,
   "metadata": {
    "execution": {
     "iopub.execute_input": "2021-01-05T13:17:15.527464Z",
     "iopub.status.busy": "2021-01-05T13:17:15.526742Z",
     "iopub.status.idle": "2021-01-05T13:17:17.337151Z",
     "shell.execute_reply": "2021-01-05T13:17:17.337708Z"
    },
    "papermill": {
     "duration": 1.855589,
     "end_time": "2021-01-05T13:17:17.337867",
     "exception": false,
     "start_time": "2021-01-05T13:17:15.482278",
     "status": "completed"
    },
    "tags": []
   },
   "outputs": [
    {
     "name": "stdout",
     "output_type": "stream",
     "text": [
      "RMSE: 596.9544588974487\n"
     ]
    }
   ],
   "source": [
    "gbr = GradientBoostingRegressor(max_depth=3, n_estimators=1600, learning_rate=0.02, subsample=0.75, random_state=2)\n",
    "gbr.fit(X_train, y_train)\n",
    "y_preds = gbr.predict(X_test)\n",
    "rmse = mean_squared_error(y_preds, y_test)**0.5\n",
    "print('RMSE:',rmse)\n"
   ]
  },
  {
   "cell_type": "markdown",
   "metadata": {
    "papermill": {
     "duration": 0.038306,
     "end_time": "2021-01-05T13:17:17.412280",
     "exception": false,
     "start_time": "2021-01-05T13:17:17.373974",
     "status": "completed"
    },
    "tags": []
   },
   "source": [
    "With a larger value for n_estimators at 1600, a smaller learning_rate value at 0.02, a comparable subsample value of\n",
    "0.75, and the same max_depth value of 3, we obtained the best Root Mean Square Error (RMSE) yet at 597."
   ]
  },
  {
   "cell_type": "markdown",
   "metadata": {
    "papermill": {
     "duration": 0.03601,
     "end_time": "2021-01-05T13:17:17.484882",
     "exception": false,
     "start_time": "2021-01-05T13:17:17.448872",
     "status": "completed"
    },
    "tags": []
   },
   "source": [
    "# XGBoost"
   ]
  },
  {
   "cell_type": "code",
   "execution_count": 23,
   "metadata": {
    "execution": {
     "iopub.execute_input": "2021-01-05T13:17:17.565297Z",
     "iopub.status.busy": "2021-01-05T13:17:17.564495Z",
     "iopub.status.idle": "2021-01-05T13:17:19.084644Z",
     "shell.execute_reply": "2021-01-05T13:17:19.085555Z"
    },
    "papermill": {
     "duration": 1.563402,
     "end_time": "2021-01-05T13:17:19.085756",
     "exception": false,
     "start_time": "2021-01-05T13:17:17.522354",
     "status": "completed"
    },
    "tags": []
   },
   "outputs": [
    {
     "name": "stdout",
     "output_type": "stream",
     "text": [
      "RMSE: 584.339544309016\n"
     ]
    }
   ],
   "source": [
    "from xgboost import XGBRegressor\n",
    "\n",
    "xg_reg = XGBRegressor(max_depth=3, n_estimators=1600, subsample=0.75, eta=0.02, random_state=2)\n",
    "xg_reg.fit(X_train, y_train)\n",
    "y_preds = xg_reg.predict(X_test)\n",
    "rmse = mean_squared_error(y_preds, y_test)**0.5\n",
    "print('RMSE:',rmse)"
   ]
  },
  {
   "cell_type": "code",
   "execution_count": null,
   "metadata": {
    "papermill": {
     "duration": 0.052016,
     "end_time": "2021-01-05T13:17:19.190523",
     "exception": false,
     "start_time": "2021-01-05T13:17:19.138507",
     "status": "completed"
    },
    "tags": []
   },
   "outputs": [],
   "source": []
  }
 ],
 "metadata": {
  "kernelspec": {
   "display_name": "Python 3",
   "language": "python",
   "name": "python3"
  },
  "language_info": {
   "codemirror_mode": {
    "name": "ipython",
    "version": 3
   },
   "file_extension": ".py",
   "mimetype": "text/x-python",
   "name": "python",
   "nbconvert_exporter": "python",
   "pygments_lexer": "ipython3",
   "version": "3.7.6"
  },
  "papermill": {
   "duration": 63.96282,
   "end_time": "2021-01-05T13:17:19.362397",
   "environment_variables": {},
   "exception": null,
   "input_path": "__notebook__.ipynb",
   "output_path": "__notebook__.ipynb",
   "parameters": {},
   "start_time": "2021-01-05T13:16:15.399577",
   "version": "2.1.0"
  }
 },
 "nbformat": 4,
 "nbformat_minor": 4
}
